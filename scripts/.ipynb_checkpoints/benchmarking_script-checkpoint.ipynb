{
 "cells": [
  {
   "cell_type": "code",
   "execution_count": 87,
   "metadata": {},
   "outputs": [],
   "source": [
    "from neurokit.io import Recording\n",
    "from neurokit.io import read_edf\n",
    "from neurokit.analysis import suppressions\n",
    "from neurokit.utils import intervals_to_mask\n",
    "from sklearn.metrics import confusion_matrix\n",
    "from plotly.subplots import make_subplots\n",
    "import neurokit as nk\n",
    "import numpy as np\n",
    "import pandas as pd\n",
    "import plotly.graph_objects as go\n",
    "import sklearn\n",
    "import matplotlib.pyplot as plt"
   ]
  },
  {
   "cell_type": "markdown",
   "metadata": {},
   "source": [
    "#### Helper functions"
   ]
  },
  {
   "cell_type": "code",
   "execution_count": 149,
   "metadata": {},
   "outputs": [],
   "source": [
    "def _calculate_perf_measures(prediction, reference):\n",
    "    TP, TN, FP, FN = confusion_matrix(reference, prediction).ravel()\n",
    "    accuracy = (prediction == reference).mean()\n",
    "    sensitivity = TP/(TP+FN)\n",
    "    specificity = TN/(TN+FP)\n",
    "    precision = TP/(TP+FP)\n",
    "    fnr = FN/(FN+TP)\n",
    "    fpr = FP/(FP+TN)\n",
    "    return {'accuracy': accuracy,\n",
    "            'sensitivity': sensitivity,\n",
    "            'specificity': specificity,\n",
    "            'precision': precision,\n",
    "            'fnr': fnr,\n",
    "            'fpr': fpr}\n",
    "\n",
    "def _plot(data, pred, ref, channel):\n",
    "    d = data.copy()\n",
    "    orig = d.loc[:, channel]\n",
    "    orig[ref] = np.nan\n",
    "    plt.plot(orig)\n",
    "    "
   ]
  },
  {
   "cell_type": "markdown",
   "metadata": {},
   "source": [
    "### Reading segments of eeg "
   ]
  },
  {
   "cell_type": "code",
   "execution_count": 119,
   "metadata": {},
   "outputs": [],
   "source": [
    "seg1 = read_edf('data/EEG_BM65_ies_as.edf')\n",
    "seg2 = read_edf('data/EEG_BM65_none.edf')\n",
    "seg3 = read_edf('data/EEG_BM65_ies.edf')"
   ]
  },
  {
   "cell_type": "markdown",
   "metadata": {},
   "source": [
    "### Reading reference masks calculated using Matlab code"
   ]
  },
  {
   "cell_type": "code",
   "execution_count": 7,
   "metadata": {},
   "outputs": [],
   "source": [
    "ref1 = pd.read_csv('data/BM65_ies_as.csv')\n",
    "ref2 = pd.read_csv('data/BM65_no_sup.csv')\n",
    "ref3 = pd.read_csv('data/BM65_ies.csv')"
   ]
  },
  {
   "cell_type": "markdown",
   "metadata": {},
   "source": [
    "### Calculating detections"
   ]
  },
  {
   "cell_type": "markdown",
   "metadata": {},
   "source": [
    "#### Case 1  : IES detections"
   ]
  },
  {
   "cell_type": "markdown",
   "metadata": {},
   "source": [
    "#### metrics"
   ]
  },
  {
   "cell_type": "code",
   "execution_count": 11,
   "metadata": {},
   "outputs": [
    {
     "data": {
      "text/html": [
       "<div>\n",
       "<style scoped>\n",
       "    .dataframe tbody tr th:only-of-type {\n",
       "        vertical-align: middle;\n",
       "    }\n",
       "\n",
       "    .dataframe tbody tr th {\n",
       "        vertical-align: top;\n",
       "    }\n",
       "\n",
       "    .dataframe thead th {\n",
       "        text-align: right;\n",
       "    }\n",
       "</style>\n",
       "<table border=\"1\" class=\"dataframe\">\n",
       "  <thead>\n",
       "    <tr style=\"text-align: right;\">\n",
       "      <th></th>\n",
       "      <th>accuracy</th>\n",
       "      <th>sensitivity</th>\n",
       "      <th>specificity</th>\n",
       "      <th>precision</th>\n",
       "      <th>fnr</th>\n",
       "      <th>fpr</th>\n",
       "    </tr>\n",
       "  </thead>\n",
       "  <tbody>\n",
       "    <tr>\n",
       "      <th>0</th>\n",
       "      <td>0.704311</td>\n",
       "      <td>0.525040</td>\n",
       "      <td>0.939258</td>\n",
       "      <td>0.953680</td>\n",
       "      <td>0.474960</td>\n",
       "      <td>0.060742</td>\n",
       "    </tr>\n",
       "    <tr>\n",
       "      <th>1</th>\n",
       "      <td>0.582046</td>\n",
       "      <td>0.817592</td>\n",
       "      <td>0.974146</td>\n",
       "      <td>0.977797</td>\n",
       "      <td>0.182408</td>\n",
       "      <td>0.025854</td>\n",
       "    </tr>\n",
       "    <tr>\n",
       "      <th>2</th>\n",
       "      <td>0.810235</td>\n",
       "      <td>0.370263</td>\n",
       "      <td>0.878049</td>\n",
       "      <td>0.928384</td>\n",
       "      <td>0.629737</td>\n",
       "      <td>0.121951</td>\n",
       "    </tr>\n",
       "  </tbody>\n",
       "</table>\n",
       "</div>"
      ],
      "text/plain": [
       "   accuracy  sensitivity  specificity  precision       fnr       fpr\n",
       "0  0.704311     0.525040     0.939258   0.953680  0.474960  0.060742\n",
       "1  0.582046     0.817592     0.974146   0.977797  0.182408  0.025854\n",
       "2  0.810235     0.370263     0.878049   0.928384  0.629737  0.121951"
      ]
     },
     "execution_count": 11,
     "metadata": {},
     "output_type": "execute_result"
    }
   ],
   "source": [
    "intervals1 = suppressions.detect_ies(seg1)\n",
    "intervals2 = suppressions.detect_ies(seg2)\n",
    "intervals3 = suppressions.detect_ies(seg3)\n",
    "pred1 = intervals_to_mask(intervals1.loc[:,['start', 'end']].values, seg1.data.index)\n",
    "pred2 = intervals_to_mask(intervals2.loc[:,['start', 'end']].values, seg2.data.index)\n",
    "pred3 = intervals_to_mask(intervals3.loc[:,['start', 'end']].values, seg3.data.index)\n",
    "perf = pd.DataFrame(columns=['accuracy','sensitivity','specificity','precision','fnr','fpr'])\n",
    "perf = perf.append(_calculate_perf_measures(pred1, ref1.loc[:, 'ies']),ignore_index=True)\n",
    "perf = perf.append(_calculate_perf_measures(pred2, ref2.loc[:, 'ies']),ignore_index=True)\n",
    "perf = perf.append(_calculate_perf_measures(pred3, ref3.loc[:, 'ies']),ignore_index=True)\n",
    "perf"
   ]
  },
  {
   "cell_type": "markdown",
   "metadata": {},
   "source": [
    "#### plots"
   ]
  },
  {
   "cell_type": "code",
   "execution_count": 150,
   "metadata": {},
   "outputs": [
    {
     "data": {
      "image/png": "[encoded data removed]",
      "text/plain": [
       "<Figure size 432x288 with 1 Axes>"
      ]
     },
     "metadata": {
      "needs_background": "light"
     },
     "output_type": "display_data"
    }
   ],
   "source": [
    "_plot(seg1.data, pred1, ref1.loc[:, 'ies'].values.astype(bool), 'EEG R1(Fp2)')"
   ]
  },
  {
   "cell_type": "markdown",
   "metadata": {},
   "source": [
    "#### Case 2 : alpha suppression detection"
   ]
  },
  {
   "cell_type": "code",
   "execution_count": 13,
   "metadata": {},
   "outputs": [
    {
     "data": {
      "text/html": [
       "<div>\n",
       "<style scoped>\n",
       "    .dataframe tbody tr th:only-of-type {\n",
       "        vertical-align: middle;\n",
       "    }\n",
       "\n",
       "    .dataframe tbody tr th {\n",
       "        vertical-align: top;\n",
       "    }\n",
       "\n",
       "    .dataframe thead th {\n",
       "        text-align: right;\n",
       "    }\n",
       "</style>\n",
       "<table border=\"1\" class=\"dataframe\">\n",
       "  <thead>\n",
       "    <tr style=\"text-align: right;\">\n",
       "      <th></th>\n",
       "      <th>accuracy</th>\n",
       "      <th>sensitivity</th>\n",
       "      <th>specificity</th>\n",
       "      <th>precision</th>\n",
       "      <th>fnr</th>\n",
       "      <th>fpr</th>\n",
       "    </tr>\n",
       "  </thead>\n",
       "  <tbody>\n",
       "    <tr>\n",
       "      <th>0</th>\n",
       "      <td>0.053209</td>\n",
       "      <td>0.001356</td>\n",
       "      <td>1.0</td>\n",
       "      <td>1.0</td>\n",
       "      <td>0.998644</td>\n",
       "      <td>0.0</td>\n",
       "    </tr>\n",
       "    <tr>\n",
       "      <th>1</th>\n",
       "      <td>0.123437</td>\n",
       "      <td>0.008264</td>\n",
       "      <td>1.0</td>\n",
       "      <td>1.0</td>\n",
       "      <td>0.991736</td>\n",
       "      <td>0.0</td>\n",
       "    </tr>\n",
       "    <tr>\n",
       "      <th>2</th>\n",
       "      <td>0.000423</td>\n",
       "      <td>1.000000</td>\n",
       "      <td>1.0</td>\n",
       "      <td>1.0</td>\n",
       "      <td>0.000000</td>\n",
       "      <td>0.0</td>\n",
       "    </tr>\n",
       "  </tbody>\n",
       "</table>\n",
       "</div>"
      ],
      "text/plain": [
       "   accuracy  sensitivity  specificity  precision       fnr  fpr\n",
       "0  0.053209     0.001356          1.0        1.0  0.998644  0.0\n",
       "1  0.123437     0.008264          1.0        1.0  0.991736  0.0\n",
       "2  0.000423     1.000000          1.0        1.0  0.000000  0.0"
      ]
     },
     "execution_count": 13,
     "metadata": {},
     "output_type": "execute_result"
    }
   ],
   "source": [
    "intervals1 = suppressions.detect_alpha_suppressions(seg1)\n",
    "intervals2 = suppressions.detect_alpha_suppressions(seg2)\n",
    "intervals3 = suppressions.detect_alpha_suppressions(seg3)\n",
    "pred1 = intervals_to_mask(intervals1.loc[:,['start', 'end']].values, seg1.data.index)\n",
    "pred2 = intervals_to_mask(intervals2.loc[:,['start', 'end']].values, seg2.data.index)\n",
    "pred3 = intervals_to_mask(intervals3.loc[:,['start', 'end']].values, seg3.data.index)\n",
    "perf = pd.DataFrame(columns=['accuracy','sensitivity','specificity','precision','fnr','fpr'])\n",
    "perf = perf.append(_calculate_perf_measures(pred1, ref1.loc[:, 'as']),ignore_index=True)\n",
    "perf = perf.append(_calculate_perf_measures(pred2, ref2.loc[:, 'as']),ignore_index=True)\n",
    "perf = perf.append(_calculate_perf_measures(pred3, ref3.loc[:, 'as']),ignore_index=True)\n",
    "perf"
   ]
  },
  {
   "cell_type": "code",
   "execution_count": null,
   "metadata": {},
   "outputs": [],
   "source": []
  }
 ],
 "metadata": {
  "kernelspec": {
   "display_name": "Python 3",
   "language": "python",
   "name": "python3"
  },
  "language_info": {
   "codemirror_mode": {
    "name": "ipython",
    "version": 3
   },
   "file_extension": ".py",
   "mimetype": "text/x-python",
   "name": "python",
   "nbconvert_exporter": "python",
   "pygments_lexer": "ipython3",
   "version": "3.7.3"
  }
 },
 "nbformat": 4,
 "nbformat_minor": 2
}
