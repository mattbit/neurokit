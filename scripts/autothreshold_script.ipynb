{
 "cells": [
  {
   "cell_type": "markdown",
   "metadata": {
    "collapsed": true,
    "pycharm": {
     "name": "#%% md\n"
    }
   },
   "source": [
    "# imports"
   ]
  },
  {
   "cell_type": "code",
   "execution_count": null,
   "metadata": {
    "pycharm": {
     "name": "#%%\n"
    }
   },
   "outputs": [],
   "source": [
    "import pandas as pd\n",
    "import numpy as np\n",
    "import plotly.graph_objects as go\n",
    "import math\n",
    "from sklearn.metrics import confusion_matrix\n",
    "from matplotlib import pyplot as plt\n",
    "from neurokit.io import read_edf\n",
    "from neurokit.io import Recording\n",
    "from typing import Sequence, Tuple\n",
    "from neurokit.preprocessing.filters import bandpass\n",
    "from plotly.subplots import make_subplots\n",
    "from scipy.ndimage.morphology import binary_opening\n",
    "from neurokit.utils import mask_to_intervals\n",
    "from neurokit.utils import intervals_to_mask"
   ]
  },
  {
   "cell_type": "markdown",
   "metadata": {
    "pycharm": {
     "name": "#%% md\n"
    }
   },
   "source": [
    "##### helper functions"
   ]
  },
  {
   "cell_type": "code",
   "execution_count": null,
   "metadata": {
    "pycharm": {
     "name": "#%%\n"
    }
   },
   "outputs": [],
   "source": [
    "def _calculate_perf_measures(prediction, reference, threshold):\n",
    "    TN, FP, FN, TP = confusion_matrix(reference, prediction).ravel()\n",
    "    accuracy = (prediction == reference).mean()\n",
    "    sensitivity = TP/(TP+FN)\n",
    "    specificity = TN/(TN+FP)\n",
    "    precision = TP/(TP+FP)\n",
    "    fnr = FN/(FN+TP)\n",
    "    fpr = FP/(FP+TN)\n",
    "    return {'accuracy': accuracy,\n",
    "            'sensitivity': sensitivity,\n",
    "            'specificity': specificity,\n",
    "            'precision': precision,\n",
    "            'fnr': fnr,\n",
    "            'fpr': fpr,\n",
    "            'threshold': threshold}\n",
    "\n",
    "def _get_values(values, idx):\n",
    "    orig = values.copy()\n",
    "    mask = values.copy()\n",
    "    orig[idx] = np.nan\n",
    "    mask[~idx] = np.nan\n",
    "    return orig, mask\n",
    "\n",
    "def _plot_suppression(data, pred, ref, channel, sup_type):\n",
    "    values = data.loc[:, channel]\n",
    "    ref_ies = ref.loc[:, sup_type].values.astype(bool)\n",
    "    orig , ies = _get_values(values, ref_ies)\n",
    "    fig = make_subplots(rows=2, cols=1, shared_xaxes=True, vertical_spacing=0.05, subplot_titles=('Reference', 'Prediction'))\n",
    "    fig.add_trace(go.Scatter(x=data.index, y=orig, line_color=\"#1f77b4\", name=channel), row=1, col=1)\n",
    "    fig.add_trace(go.Scatter(x=data.index, y=ies, line_color=\"#d62728\", name=sup_type), row=1, col=1)\n",
    "    o2, ies2 = _get_values(values, pred)\n",
    "    fig.add_trace(go.Scatter(x=data.index, y=o2, line_color=\"#1f77b4\", name=channel), row=2, col=1)\n",
    "    fig.add_trace(go.Scatter(x=data.index, y=ies2, line_color=\"#d62728\", name=sup_type), row=2, col=1)\n",
    "    fig.show()\n",
    "\n",
    "def _detect_suppressions(recording: Recording,\n",
    "                         channels: Sequence = None,\n",
    "                         threshold: float = None,\n",
    "                         min_duration: float = 1.):\n",
    "    if not channels:\n",
    "        channels = recording.channels\n",
    "\n",
    "    rec = recording.artifacts_to_nan()\n",
    "    if threshold is None:\n",
    "        threshold = _find_threshold(rec.data.loc[:, channels])\n",
    "    envelope = rec.data.loc[:, channels].abs().values.max(axis=1)\n",
    "    min_length = math.ceil(min_duration * rec.frequency)\n",
    "    with np.errstate(invalid='ignore'):\n",
    "        ies_mask = envelope < threshold\n",
    "    ies_mask = binary_opening(ies_mask, np.ones(min_length))\n",
    "    return ies_mask\n",
    "\n",
    "\n",
    "def _find_threshold(data: pd.DataFrame, threshold: float = 8.):\n",
    "    mean_amplitude = data.abs().mean().mean()\n",
    "    if mean_amplitude < 30:\n",
    "        threshold = threshold / 1.25\n",
    "    return threshold\n",
    "\n",
    "\n",
    "def _detect_alpha_suppressions(\n",
    "    recording: Recording,\n",
    "    channels: Sequence = None,\n",
    "    frequency_band: Tuple[float, float] = (8., 16.),\n",
    "    threshold: float = None\n",
    "):\n",
    "    if not channels:\n",
    "        channels = recording.channels\n",
    "    rec = recording.copy()\n",
    "    rec.data = recording.data.loc[:, channels]\n",
    "    filtered = bandpass(rec, frequency_band)\n",
    "    if threshold is None:\n",
    "        rms_before = np.sqrt(np.mean(rec.data.values**2))\n",
    "        rms_after = np.sqrt(np.mean(filtered.data.values**2))\n",
    "        threshold = 8 * rms_after / rms_before\n",
    "    return _detect_suppressions(filtered, threshold=threshold)\n",
    "\n",
    "\n",
    "class SuppressionAnalyzer:\n",
    "    \"\"\"Detects isoelectric- and α-suppressions in a Recording.\"\"\"\n",
    "\n",
    "    def __init__(self, recording: Recording):\n",
    "        self.recording = recording\n",
    "        self._ies_detections = None\n",
    "        self._alpha_detections = None\n",
    "        self._ies_mask = None\n",
    "\n",
    "    def detect_ies(self, **kwargs):\n",
    "        self._ies_mask = _detect_suppressions(self.recording, **kwargs)\n",
    "        intervals = mask_to_intervals(self._ies_mask, self.recording.data.index)\n",
    "        detections = [{'start': start,\n",
    "                       'end': end,\n",
    "                       'channel': None,\n",
    "                       'description': 'IES'}\n",
    "                      for start, end in intervals]\n",
    "        self._ies_detections = pd.DataFrame(detections)\n",
    "        return self._ies_detections\n",
    "\n",
    "    def detect_alpha_suppressions(\n",
    "            self,\n",
    "            channels: Sequence = None,\n",
    "            frequency_band: Tuple[float, float] = (8., 16.),\n",
    "            threshold: float = None\n",
    "    ):\n",
    "        if self._ies_mask is None:\n",
    "            self._ies_mask = _detect_suppressions(\n",
    "                self.recording, min_duration=2.5)\n",
    "\n",
    "        rec = self.recording.copy()\n",
    "        rec.data[self._ies_mask] = np.nan\n",
    "        alpha_mask = _detect_alpha_suppressions(\n",
    "            rec, channels, frequency_band, threshold)\n",
    "\n",
    "        intervals = mask_to_intervals(alpha_mask, self.recording.data.index)\n",
    "        detections = [{'start': start,\n",
    "                       'end': end,\n",
    "                       'channel': None,\n",
    "                       'description': 'alpha_suppression'}\n",
    "                      for start, end in intervals]\n",
    "\n",
    "        self._alpha_detections = pd.DataFrame(detections)\n",
    "\n",
    "        return self._alpha_detections\n",
    "\n",
    "\n"
   ]
  },
  {
   "cell_type": "markdown",
   "metadata": {
    "pycharm": {
     "name": "#%% md\n"
    }
   },
   "source": [
    "#### auto threshold"
   ]
  },
  {
   "cell_type": "code",
   "execution_count": null,
   "metadata": {
    "pycharm": {
     "name": "#%%\n"
    }
   },
   "outputs": [],
   "source": [
    "def automatic_threshold(recording, quantile):\n",
    "    threshold = np.quantile(recording.data.loc[:, :].abs().values, quantile)\n",
    "    pred = suppressions._detect_suppressions(recording, threshold=threshold)\n",
    "    return pred, threshold"
   ]
  },
  {
   "cell_type": "markdown",
   "metadata": {
    "pycharm": {
     "name": "#%% md\n"
    }
   },
   "source": [
    "#### Evaluating performance"
   ]
  },
  {
   "cell_type": "code",
   "execution_count": null,
   "metadata": {},
   "outputs": [],
   "source": [
    "seg1 = read_edf('data/EEG_BM65_ies_as.edf')\n",
    "ref1 = pd.read_csv('data/BM65_ies_as.csv')\n",
    "rec = seg1.copy()\n",
    "filtered = bandpass(rec, (8, 16))\n",
    "analyzer = SuppressionAnalyzer(filtered)\n",
    "ies = analyzer.detect_ies(channels=['EEG L1(Fp1)', 'EEG R1(Fp2)'], min_duration=2.5)"
   ]
  },
  {
   "cell_type": "code",
   "execution_count": null,
   "metadata": {
    "pycharm": {
     "name": "#%%\n"
    }
   },
   "outputs": [],
   "source": [
    "# quantiles = np.arange(0.9, 0.99, 0.01)\n",
    "minVal = rec.data.loc[:, :].abs().values.min()\n",
    "maxVal = rec.data.loc[:, :].abs().values.max()\n",
    "\n",
    "thresholds = np.linspace(2, 10, 20)\n",
    "perf = pd.DataFrame(columns=['accuracy','sensitivity','specificity','precision','fnr','fpr', 'threshold'])\n",
    "\n",
    "for th in thresholds:\n",
    "#    pred, th = automatic_threshold(filtered, quantile)\n",
    "#    detection = analyzer._detect_alpha_suppressions(threshold=quantile)\n",
    "#    pred = intervals_to_mask(detection.loc[:,['start', 'end']].values, seg1.data.index)\n",
    "    pred = _detect_alpha_suppressions(filtered, threshold=th)\n",
    "    pred[analyzer._ies_mask] = False\n",
    "    perf = perf.append(_calculate_perf_measures(pred, ref1.loc[:, 'as'], th), ignore_index=True)\n",
    "pd.set_option('display.max_rows', None)\n",
    "perf"
   ]
  },
  {
   "cell_type": "code",
   "execution_count": null,
   "metadata": {},
   "outputs": [],
   "source": [
    "pred = analyzer.detect_alpha_suppressions()\n",
    "#_plot_suppression(seg1.data, pred, ref1, 'EEG R1(Fp2)','as')\n",
    "len(pred)"
   ]
  },
  {
   "cell_type": "code",
   "execution_count": null,
   "metadata": {},
   "outputs": [],
   "source": []
  },
  {
   "cell_type": "code",
   "execution_count": null,
   "metadata": {},
   "outputs": [],
   "source": []
  }
 ],
 "metadata": {
  "kernelspec": {
   "display_name": "Python 3",
   "language": "python",
   "name": "python3"
  },
  "language_info": {
   "codemirror_mode": {
    "name": "ipython",
    "version": 3
   },
   "file_extension": ".py",
   "mimetype": "text/x-python",
   "name": "python",
   "nbconvert_exporter": "python",
   "pygments_lexer": "ipython3",
   "version": "3.7.7"
  }
 },
 "nbformat": 4,
 "nbformat_minor": 1
}
