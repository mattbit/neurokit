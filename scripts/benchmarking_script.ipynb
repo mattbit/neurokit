{
 "cells": [
  {
   "cell_type": "code",
   "execution_count": 5,
   "metadata": {},
   "outputs": [],
   "source": [
    "from neurokit.io import Recording\n",
    "from neurokit.io import read_edf\n",
    "from neurokit.analysis import suppressions\n",
    "import neurokit as nk\n",
    "import numpy as np\n",
    "import pandas as pd\n",
    "import plotly.express as px\n",
    "import matplotlib.pyplot as plt"
   ]
  },
  {
   "cell_type": "markdown",
   "metadata": {},
   "source": [
    "### Reading segments of eeg "
   ]
  },
  {
   "cell_type": "code",
   "execution_count": 6,
   "metadata": {},
   "outputs": [],
   "source": [
    "seg1 = read_edf('neurokit/tests/data/EEG_BM65_ies_as.edf')\n",
    "seg2 = read_edf('neurokit/tests/data/EEG_BM65_none.edf')\n",
    "seg3 = read_edf('neurokit/tests/data/EEG_BM65_ies.edf')"
   ]
  },
  {
   "cell_type": "markdown",
   "metadata": {},
   "source": [
    "### Reading reference masks calculated using Matlab code"
   ]
  },
  {
   "cell_type": "code",
   "execution_count": 7,
   "metadata": {},
   "outputs": [],
   "source": [
    "ref1 = pd.read_csv('neurokit/tests/data/BM65_ies_as.csv')\n",
    "ref2 = pd.read_csv('neurokit/tests/data/BM65_no_sup.csv')\n",
    "ref3 = pd.read_csv('neurokit/tests/data/BM65_ies.csv')"
   ]
  },
  {
   "cell_type": "markdown",
   "metadata": {},
   "source": [
    "### Calculating detections"
   ]
  },
  {
   "cell_type": "markdown",
   "metadata": {},
   "source": [
    "#### Case 1  : IES detections"
   ]
  },
  {
   "cell_type": "code",
   "execution_count": 10,
   "metadata": {},
   "outputs": [
    {
     "data": {
      "text/html": [
       "<div>\n",
       "<style scoped>\n",
       "    .dataframe tbody tr th:only-of-type {\n",
       "        vertical-align: middle;\n",
       "    }\n",
       "\n",
       "    .dataframe tbody tr th {\n",
       "        vertical-align: top;\n",
       "    }\n",
       "\n",
       "    .dataframe thead th {\n",
       "        text-align: right;\n",
       "    }\n",
       "</style>\n",
       "<table border=\"1\" class=\"dataframe\">\n",
       "  <thead>\n",
       "    <tr style=\"text-align: right;\">\n",
       "      <th></th>\n",
       "      <th>TP</th>\n",
       "      <th>TN</th>\n",
       "      <th>FP</th>\n",
       "      <th>FN</th>\n",
       "      <th>accuracy</th>\n",
       "      <th>precision</th>\n",
       "    </tr>\n",
       "  </thead>\n",
       "  <tbody>\n",
       "    <tr>\n",
       "      <th>0</th>\n",
       "      <td>13913.0</td>\n",
       "      <td>15380.0</td>\n",
       "      <td>11551.0</td>\n",
       "      <td>747.0</td>\n",
       "      <td>0.704311</td>\n",
       "      <td>0.546379</td>\n",
       "    </tr>\n",
       "    <tr>\n",
       "      <th>1</th>\n",
       "      <td>2810.0</td>\n",
       "      <td>12595.0</td>\n",
       "      <td>10776.0</td>\n",
       "      <td>286.0</td>\n",
       "      <td>0.582046</td>\n",
       "      <td>0.206831</td>\n",
       "    </tr>\n",
       "    <tr>\n",
       "      <th>2</th>\n",
       "      <td>19292.0</td>\n",
       "      <td>11343.0</td>\n",
       "      <td>6300.0</td>\n",
       "      <td>875.0</td>\n",
       "      <td>0.810235</td>\n",
       "      <td>0.753829</td>\n",
       "    </tr>\n",
       "  </tbody>\n",
       "</table>\n",
       "</div>"
      ],
      "text/plain": [
       "        TP       TN       FP     FN  accuracy  precision\n",
       "0  13913.0  15380.0  11551.0  747.0  0.704311   0.546379\n",
       "1   2810.0  12595.0  10776.0  286.0  0.582046   0.206831\n",
       "2  19292.0  11343.0   6300.0  875.0  0.810235   0.753829"
      ]
     },
     "execution_count": 10,
     "metadata": {},
     "output_type": "execute_result"
    }
   ],
   "source": [
    "intervals1 = suppressions.detect_ies(seg1)\n",
    "intervals2 = suppressions.detect_ies(seg2)\n",
    "intervals3 = suppressions.detect_ies(seg3)\n",
    "pred1 = intervals_to_mask(intervals1, seg1.data.index)\n",
    "pred2 = intervals_to_mask(intervals2, seg2.data.index)\n",
    "pred3 = intervals_to_mask(intervals3, seg3.data.index)\n",
    "perf = pd.DataFrame(columns=['TP', 'TN', 'FP', 'FN', 'accuracy', 'precision'])\n",
    "perf = perf.append(_calculate_perf_measures(pred1, ref1.loc[:, 'ies']),ignore_index=True)\n",
    "perf = perf.append(_calculate_perf_measures(pred2, ref2.loc[:, 'ies']),ignore_index=True)\n",
    "perf = perf.append(_calculate_perf_measures(pred3, ref3.loc[:, 'ies']),ignore_index=True)\n",
    "perf"
   ]
  },
  {
   "cell_type": "markdown",
   "metadata": {},
   "source": [
    "#### Case 2 : alpha suppression detection"
   ]
  },
  {
   "cell_type": "code",
   "execution_count": 11,
   "metadata": {},
   "outputs": [
    {
     "data": {
      "text/html": [
       "<div>\n",
       "<style scoped>\n",
       "    .dataframe tbody tr th:only-of-type {\n",
       "        vertical-align: middle;\n",
       "    }\n",
       "\n",
       "    .dataframe tbody tr th {\n",
       "        vertical-align: top;\n",
       "    }\n",
       "\n",
       "    .dataframe thead th {\n",
       "        text-align: right;\n",
       "    }\n",
       "</style>\n",
       "<table border=\"1\" class=\"dataframe\">\n",
       "  <thead>\n",
       "    <tr style=\"text-align: right;\">\n",
       "      <th></th>\n",
       "      <th>TP</th>\n",
       "      <th>TN</th>\n",
       "      <th>FP</th>\n",
       "      <th>FN</th>\n",
       "      <th>accuracy</th>\n",
       "      <th>precision</th>\n",
       "    </tr>\n",
       "  </thead>\n",
       "  <tbody>\n",
       "    <tr>\n",
       "      <th>0</th>\n",
       "      <td>2210.0</td>\n",
       "      <td>3.0</td>\n",
       "      <td>39378.0</td>\n",
       "      <td>0.0</td>\n",
       "      <td>0.053209</td>\n",
       "      <td>0.053140</td>\n",
       "    </tr>\n",
       "    <tr>\n",
       "      <th>1</th>\n",
       "      <td>3240.0</td>\n",
       "      <td>27.0</td>\n",
       "      <td>23200.0</td>\n",
       "      <td>0.0</td>\n",
       "      <td>0.123437</td>\n",
       "      <td>0.122542</td>\n",
       "    </tr>\n",
       "    <tr>\n",
       "      <th>2</th>\n",
       "      <td>0.0</td>\n",
       "      <td>16.0</td>\n",
       "      <td>37794.0</td>\n",
       "      <td>0.0</td>\n",
       "      <td>0.000423</td>\n",
       "      <td>0.000000</td>\n",
       "    </tr>\n",
       "  </tbody>\n",
       "</table>\n",
       "</div>"
      ],
      "text/plain": [
       "       TP    TN       FP   FN  accuracy  precision\n",
       "0  2210.0   3.0  39378.0  0.0  0.053209   0.053140\n",
       "1  3240.0  27.0  23200.0  0.0  0.123437   0.122542\n",
       "2     0.0  16.0  37794.0  0.0  0.000423   0.000000"
      ]
     },
     "execution_count": 11,
     "metadata": {},
     "output_type": "execute_result"
    }
   ],
   "source": [
    "intervals1 = suppressions.detect_alpha_suppressions(seg1)\n",
    "intervals2 = suppressions.detect_alpha_suppressions(seg2)\n",
    "intervals3 = suppressions.detect_alpha_suppressions(seg3)\n",
    "pred1 = intervals_to_mask(intervals1, seg1.data.index)\n",
    "pred2 = intervals_to_mask(intervals2, seg2.data.index)\n",
    "pred3 = intervals_to_mask(intervals3, seg3.data.index)\n",
    "perf = pd.DataFrame(columns=['TP', 'TN', 'FP', 'FN', 'accuracy', 'precision'])\n",
    "perf = perf.append(_calculate_perf_measures(pred1, ref1.loc[:, 'as']),ignore_index=True)\n",
    "perf = perf.append(_calculate_perf_measures(pred2, ref2.loc[:, 'as']),ignore_index=True)\n",
    "perf = perf.append(_calculate_perf_measures(pred3, ref3.loc[:, 'as']),ignore_index=True)\n",
    "perf"
   ]
  },
  {
   "cell_type": "markdown",
   "metadata": {},
   "source": [
    "#### Helper functions"
   ]
  },
  {
   "cell_type": "code",
   "execution_count": 8,
   "metadata": {},
   "outputs": [],
   "source": [
    "def _calculate_perf_measures(prediction, reference):\n",
    "    TP = 0\n",
    "    TN = 0\n",
    "    FN = 0\n",
    "    FP = 0\n",
    "    for i in range(len(prediction)):\n",
    "        if (prediction[i] == reference[i]) and prediction[i]:\n",
    "            TP+=1\n",
    "        elif (prediction[i] == reference[i]) and not prediction[i]:\n",
    "            TN+=1\n",
    "        elif (prediction[i] != reference[i]) and prediction[i]:\n",
    "            FP+=1\n",
    "        else:\n",
    "            FN+=1\n",
    "    accuracy = (TP+TN)/(TP+TN+FP+FN)\n",
    "    precision = TP/ (TP+FP)\n",
    "    return {'TP': TP, 'TN': TN, 'FP': FP, 'FN': FN, 'accuracy': accuracy, 'precision': precision}\n",
    "            "
   ]
  },
  {
   "cell_type": "code",
   "execution_count": 9,
   "metadata": {},
   "outputs": [],
   "source": [
    "def intervals_to_mask(intervals, index):\n",
    "    mask = np.zeros(len(index), dtype=bool)\n",
    "\n",
    "    for start, end in intervals.loc[:,['start', 'end']].values:\n",
    "        mask[index.get_loc(start):index.get_loc(end)] = True\n",
    "\n",
    "    return mask"
   ]
  },
  {
   "cell_type": "code",
   "execution_count": null,
   "metadata": {},
   "outputs": [],
   "source": []
  }
 ],
 "metadata": {
  "kernelspec": {
   "display_name": "Python 3",
   "language": "python",
   "name": "python3"
  }
 },
 "nbformat": 4,
 "nbformat_minor": 2
}
