{
 "cells": [
  {
   "cell_type": "code",
   "execution_count": null,
   "metadata": {},
   "outputs": [],
   "source": [
    "from neurokit.io import Recording\n",
    "from neurokit.io import read_edf\n",
    "from neurokit.analysis import suppressions\n",
    "from neurokit.utils import intervals_to_mask\n",
    "from neurokit.preprocessing import detect_artifacts\n",
    "from sklearn.metrics import confusion_matrix\n",
    "from plotly.subplots import make_subplots\n",
    "from scipy.ndimage import morphology\n",
    "import neurokit as nk\n",
    "import numpy as np\n",
    "import pandas as pd\n",
    "import plotly.graph_objects as go\n",
    "import sklearn\n",
    "import matplotlib.pyplot as plt"
   ]
  },
  {
   "cell_type": "markdown",
   "metadata": {},
   "source": [
    "#### Helper functions"
   ]
  },
  {
   "cell_type": "code",
   "execution_count": null,
   "metadata": {},
   "outputs": [],
   "source": [
    "def _calculate_perf_measures(prediction, reference):\n",
    "    TN, FP, FN, TP = confusion_matrix(reference, prediction).ravel()\n",
    "    accuracy = (prediction == reference).mean()\n",
    "    sensitivity = TP/(TP+FN)\n",
    "    specificity = TN/(TN+FP)\n",
    "    precision = TP/(TP+FP)\n",
    "    fnr = FN/(FN+TP)\n",
    "    fpr = FP/(FP+TN)\n",
    "    return {'accuracy': accuracy,\n",
    "            'sensitivity': sensitivity,\n",
    "            'specificity': specificity,\n",
    "            'precision': precision,\n",
    "            'fnr': fnr,\n",
    "            'fpr': fpr}\n",
    "\n",
    "def _get_values(values, idx):\n",
    "    orig = values.copy()\n",
    "    mask = values.copy()\n",
    "    orig[idx] = np.nan\n",
    "    mask[~idx] = np.nan\n",
    "    return orig, mask\n",
    "\n",
    "def _plot_suppression(data, pred, ref, channel, sup_type):\n",
    "    values = data.loc[:, channel]\n",
    "    ref_ies = ref.loc[:, sup_type].values.astype(bool)\n",
    "    orig , ies = _get_values(values, ref_ies)\n",
    "    fig = make_subplots(rows=2, cols=1, shared_xaxes=True, vertical_spacing=0.05, subplot_titles=('Reference', 'Prediction'))\n",
    "    fig.add_trace(go.Scatter(x=data.index, y=orig, line_color=\"#1f77b4\", name=channel), row=1, col=1)\n",
    "    fig.add_trace(go.Scatter(x=data.index, y=ies, line_color=\"#d62728\", name=sup_type), row=1, col=1)\n",
    "    o2, ies2 = _get_values(values, pred)\n",
    "    fig.add_trace(go.Scatter(x=data.index, y=o2, line_color=\"#1f77b4\", name=channel), row=2, col=1)\n",
    "    fig.add_trace(go.Scatter(x=data.index, y=ies2, line_color=\"#d62728\", name=sup_type), row=2, col=1)\n",
    "    fig.show()\n"
   ]
  },
  {
   "cell_type": "markdown",
   "metadata": {},
   "source": [
    "### Reading segments of eeg "
   ]
  },
  {
   "cell_type": "code",
   "execution_count": null,
   "metadata": {},
   "outputs": [],
   "source": [
    "seg1 = read_edf('data/EEG_BM65_ies_as.edf')\n",
    "seg2 = read_edf('data/EEG_BM65_none.edf')\n",
    "seg3 = read_edf('data/EEG_BM65_ies.edf')\n",
    "seg4 = read_edf('data/EEG_BM65.edf')"
   ]
  },
  {
   "cell_type": "markdown",
   "metadata": {},
   "source": [
    "### Reading reference masks calculated using Matlab code"
   ]
  },
  {
   "cell_type": "code",
   "execution_count": null,
   "metadata": {},
   "outputs": [],
   "source": [
    "ref1 = pd.read_csv('data/BM65_ies_as.csv')\n",
    "ref2 = pd.read_csv('data/BM65_no_sup.csv')\n",
    "ref3 = pd.read_csv('data/BM65_ies.csv')\n",
    "ref4 = pd.read_csv('data/BM65_artefact.csv')"
   ]
  },
  {
   "cell_type": "markdown",
   "metadata": {},
   "source": [
    "### Calculating detections"
   ]
  },
  {
   "cell_type": "markdown",
   "metadata": {},
   "source": [
    "#### Case 1  : IES detections"
   ]
  },
  {
   "cell_type": "markdown",
   "metadata": {},
   "source": [
    "#### metrics"
   ]
  },
  {
   "cell_type": "code",
   "execution_count": null,
   "metadata": {},
   "outputs": [],
   "source": [
    "intervals1 = suppressions.detect_ies(seg1, ['EEG L1(Fp1)', 'EEG R1(Fp2)'], min_duration=2.5)\n",
    "intervals2 = suppressions.detect_ies(seg2, ['EEG L1(Fp1)', 'EEG R1(Fp2)'], min_duration=2.5)\n",
    "intervals3 = suppressions.detect_ies(seg3, ['EEG L1(Fp1)', 'EEG R1(Fp2)'], min_duration=2.5)\n",
    "ies_pred1 = intervals_to_mask(intervals1.loc[:,['start', 'end']].values, seg1.data.index)\n",
    "ies_pred2 = intervals_to_mask(intervals2.loc[:,['start', 'end']].values, seg2.data.index)\n",
    "ies_pred3 = intervals_to_mask(intervals3.loc[:,['start', 'end']].values, seg3.data.index)\n",
    "perf = pd.DataFrame(columns=['accuracy','sensitivity','specificity','precision','fnr','fpr'])\n",
    "perf = perf.append(_calculate_perf_measures(ies_pred1, ref1.loc[:, 'ies']),ignore_index=True)\n",
    "perf = perf.append(_calculate_perf_measures(ies_pred2, ref2.loc[:, 'ies']),ignore_index=True)\n",
    "perf = perf.append(_calculate_perf_measures(ies_pred3, ref3.loc[:, 'ies']),ignore_index=True)\n",
    "perf"
   ]
  },
  {
   "cell_type": "markdown",
   "metadata": {},
   "source": [
    "#### Case 2 : alpha suppression detection"
   ]
  },
  {
   "cell_type": "code",
   "execution_count": null,
   "metadata": {},
   "outputs": [],
   "source": [
    "intervals1 = suppressions.detect_alpha_suppressions(seg1)\n",
    "intervals2 = suppressions.detect_alpha_suppressions(seg2)\n",
    "intervals3 = suppressions.detect_alpha_suppressions(seg3)\n",
    "as_pred1 = intervals_to_mask(intervals1.loc[:,['start', 'end']].values, seg1.data.index)\n",
    "as_pred2 = intervals_to_mask(intervals2.loc[:,['start', 'end']].values, seg2.data.index)\n",
    "as_pred3 = intervals_to_mask(intervals3.loc[:,['start', 'end']].values, seg3.data.index)\n",
    "perf = pd.DataFrame(columns=['accuracy','sensitivity','specificity','precision','fnr','fpr'])\n",
    "perf = perf.append(_calculate_perf_measures(as_pred1, ref1.loc[:, 'as']),ignore_index=True)\n",
    "perf = perf.append(_calculate_perf_measures(as_pred2, ref2.loc[:, 'as']),ignore_index=True)\n",
    "perf = perf.append(_calculate_perf_measures(as_pred3, ref3.loc[:, 'as']),ignore_index=True)\n",
    "perf"
   ]
  },
  {
   "cell_type": "markdown",
   "metadata": {},
   "source": [
    "### Plotting suppressions\n",
    "#### IES Suppressions\n",
    "Plotting suppressions separately to analyse performance\n",
    "##### Case 1\n",
    "Presence of both IES and Alpha supressions"
   ]
  },
  {
   "cell_type": "code",
   "execution_count": null,
   "metadata": {},
   "outputs": [],
   "source": [
    "_plot_suppression(seg1.data, ies_pred1, ref1, 'EEG R1(Fp2)','ies')"
   ]
  },
  {
   "cell_type": "markdown",
   "metadata": {},
   "source": [
    "##### Case 2\n",
    "Ideal case of no suppression, but MATLAB code detects both IES and alpha suppressions"
   ]
  },
  {
   "cell_type": "code",
   "execution_count": null,
   "metadata": {},
   "outputs": [],
   "source": [
    "_plot_suppression(seg2.data, ies_pred2, ref2, 'EEG R1(Fp2)','ies')"
   ]
  },
  {
   "cell_type": "markdown",
   "metadata": {},
   "source": [
    "##### Case 3\n",
    "only IES "
   ]
  },
  {
   "cell_type": "code",
   "execution_count": null,
   "metadata": {},
   "outputs": [],
   "source": [
    "_plot_suppression(seg3.data, ies_pred3, ref3, 'EEG R1(Fp2)','ies')"
   ]
  },
  {
   "cell_type": "markdown",
   "metadata": {},
   "source": [
    "### Alpha Suppressions\n",
    "##### Case 1\n",
    "Both Alpha and IE suppressions"
   ]
  },
  {
   "cell_type": "code",
   "execution_count": null,
   "metadata": {},
   "outputs": [],
   "source": [
    "_plot_suppression(seg1.data, ies_pred1, ref1, 'EEG R1(Fp2)','as')"
   ]
  },
  {
   "cell_type": "markdown",
   "metadata": {},
   "source": [
    "##### Case 2 \n",
    "Ideally no IES or Apha suppression, but detected by Matlab code"
   ]
  },
  {
   "cell_type": "code",
   "execution_count": null,
   "metadata": {},
   "outputs": [],
   "source": [
    "_plot_suppression(seg2.data, ies_pred2, ref2, 'EEG R1(Fp2)','as')"
   ]
  },
  {
   "cell_type": "markdown",
   "metadata": {},
   "source": [
    "##### Case 3\n",
    "No Alpha suppressions"
   ]
  },
  {
   "cell_type": "code",
   "execution_count": null,
   "metadata": {},
   "outputs": [],
   "source": [
    "_plot_suppression(seg3.data, ies_pred3, ref3, 'EEG R1(Fp2)','as')"
   ]
  },
  {
   "cell_type": "markdown",
   "metadata": {},
   "source": [
    "### Artifact detection\n",
    "detecting artifacts using neurokit.preprocessing.artifact"
   ]
  },
  {
   "cell_type": "code",
   "execution_count": null,
   "metadata": {
    "scrolled": false
   },
   "outputs": [],
   "source": [
    "seg5 = seg4.copy()\n",
    "seg5.data = seg4.data.loc[:,['EEG R1(Fp2)','EEG L2(F7)']]\n",
    "intervals4 = detect_artifacts(seg5,detectors={\"amplitude\"})\n",
    "artefacts_pred = intervals_to_mask(intervals4.loc[:,['start', 'end']].values, seg4.data.index)"
   ]
  },
  {
   "cell_type": "code",
   "execution_count": null,
   "metadata": {},
   "outputs": [],
   "source": [
    "_plot_suppression(seg4.data, artefacts_pred, ref4, 'EEG R1(Fp2)','artefact')"
   ]
  },
  {
   "cell_type": "code",
   "execution_count": null,
   "metadata": {},
   "outputs": [],
   "source": [
    "morphed = morphology.binary_dilation(artefacts_pred, structure=np.ones(round(seg4.frequency)))\n",
    "_plot_suppression(seg4.data, morphed, ref4, 'EEG R1(Fp2)','artefact')"
   ]
  },
  {
   "cell_type": "code",
   "execution_count": null,
   "metadata": {},
   "outputs": [],
   "source": [
    "intervals5 = detect_artifacts(seg3,detectors={\"amplitude\"})\n",
    "artefacts_pred2 = intervals_to_mask(intervals5.loc[:,['start', 'end']].values, seg3.data.index)\n",
    "morphed = morphology.binary_dilation(artefacts_pred2, structure=np.ones(round(seg4.frequency)))\n",
    "_plot_suppression(seg3.data, morphed, ref3, 'EEG R1(Fp2)','artefact')"
   ]
  }
 ],
 "metadata": {
  "kernelspec": {
   "display_name": "Python 3",
   "language": "python",
   "name": "python3"
  },
  "language_info": {
   "codemirror_mode": {
    "name": "ipython",
    "version": 3
   },
   "file_extension": ".py",
   "mimetype": "text/x-python",
   "name": "python",
   "nbconvert_exporter": "python",
   "pygments_lexer": "ipython3",
   "version": "3.7.3"
  }
 },
 "nbformat": 4,
 "nbformat_minor": 2
}
